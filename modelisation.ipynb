{
 "cells": [
  {
   "cell_type": "code",
   "execution_count": 48,
   "metadata": {},
   "outputs": [],
   "source": [
    "import pandas as pd \n",
    "from sklearn.model_selection import train_test_split\n",
    "from sklearn.linear_model import LinearRegression, Lasso, Ridge\n",
    "import matplotlib.pyplot as plt\n",
    "from sklearn.pipeline import Pipeline\n",
    "from sklearn.preprocessing import MinMaxScaler, PolynomialFeatures, RobustScaler\n",
    "from sklearn.compose import ColumnTransformer\n",
    "from sklearn.model_selection import GridSearchCV\n",
    "import pickle"
   ]
  },
  {
   "attachments": {},
   "cell_type": "markdown",
   "metadata": {},
   "source": [
    "# Modèle naïf"
   ]
  },
  {
   "cell_type": "code",
   "execution_count": 34,
   "metadata": {},
   "outputs": [
    {
     "data": {
      "text/plain": [
       "0.40318034127962266"
      ]
     },
     "execution_count": 34,
     "metadata": {},
     "output_type": "execute_result"
    }
   ],
   "source": [
    "X = df_wine.drop('quality',axis=1)\n",
    "y = df_wine['quality']\n",
    "\n",
    "X_train, X_test, y_train, y_test = train_test_split(X,y,test_size=0.2, random_state=42)\n",
    "\n",
    "regressor = LinearRegression()\n",
    "\n",
    "trained_model = regressor.fit(X_train, y_train)\n",
    "trained_model.score(X_test,y_test)"
   ]
  },
  {
   "attachments": {},
   "cell_type": "markdown",
   "metadata": {},
   "source": [
    "# Ajout minmaxscaler"
   ]
  },
  {
   "cell_type": "code",
   "execution_count": 35,
   "metadata": {},
   "outputs": [
    {
     "data": {
      "text/plain": [
       "0.40318034127962166"
      ]
     },
     "execution_count": 35,
     "metadata": {},
     "output_type": "execute_result"
    }
   ],
   "source": [
    "X = df_wine.drop('quality',axis=1)\n",
    "y = df_wine['quality']\n",
    "\n",
    "X_train, X_test, y_train, y_test = train_test_split(X,y,test_size=0.2, random_state=42)\n",
    "\n",
    "numeric_feature = list(X.select_dtypes(include=['float64','int64']).columns)\n",
    "\n",
    "numeric_transformer = Pipeline([\n",
    "    ('min_max',MinMaxScaler())\n",
    "])\n",
    "\n",
    "preprocessor = ColumnTransformer(\n",
    "    transformers = [\n",
    "        ('num',numeric_transformer,numeric_feature)\n",
    "    ]\n",
    ")\n",
    "\n",
    "regressor = LinearRegression()\n",
    "\n",
    "pipe = Pipeline([\n",
    "    ('prep', preprocessor),\n",
    "    ('reg',regressor)\n",
    "])\n",
    "\n",
    "trained_pipe = pipe.fit(X_train,y_train)\n",
    "trained_pipe.score(X_test, y_test)"
   ]
  },
  {
   "attachments": {},
   "cell_type": "markdown",
   "metadata": {},
   "source": [
    "# Ridge"
   ]
  },
  {
   "cell_type": "code",
   "execution_count": 38,
   "metadata": {},
   "outputs": [
    {
     "data": {
      "text/plain": [
       "0.4000621563811405"
      ]
     },
     "execution_count": 38,
     "metadata": {},
     "output_type": "execute_result"
    }
   ],
   "source": [
    "X = df_wine.drop('quality',axis=1)\n",
    "y = df_wine['quality']\n",
    "\n",
    "X_train, X_test, y_train, y_test = train_test_split(X,y,test_size=0.2, random_state=42)\n",
    "\n",
    "numeric_feature = list(X.select_dtypes(include=['float64','int64']).columns)\n",
    "\n",
    "numeric_transformer = Pipeline([\n",
    "    ('min_max',MinMaxScaler())\n",
    "])\n",
    "\n",
    "preprocessor = ColumnTransformer(\n",
    "    transformers = [\n",
    "        ('num',numeric_transformer,numeric_feature)\n",
    "    ]\n",
    ")\n",
    "\n",
    "param_grid= {'alpha':[0.1,1,10]} \n",
    "\n",
    "grid = GridSearchCV(Ridge(),param_grid,cv=5)\n",
    "\n",
    "grid.fit(X_train,y_train)\n",
    "\n",
    "regressor = grid.best_estimator_\n",
    "\n",
    "pipe = Pipeline([\n",
    "    ('prep', preprocessor),\n",
    "    ('reg',regressor)\n",
    "])\n",
    "\n",
    "trained_pipe = pipe.fit(X_train,y_train)\n",
    "trained_pipe.score(X_test, y_test)"
   ]
  },
  {
   "attachments": {},
   "cell_type": "markdown",
   "metadata": {},
   "source": [
    "# Ajout polynomial feature"
   ]
  },
  {
   "cell_type": "code",
   "execution_count": 49,
   "metadata": {},
   "outputs": [
    {
     "data": {
      "text/plain": [
       "0.42210235035714305"
      ]
     },
     "execution_count": 49,
     "metadata": {},
     "output_type": "execute_result"
    }
   ],
   "source": [
    "X = df_wine.drop('quality',axis=1)\n",
    "y = df_wine['quality']\n",
    "\n",
    "X_train, X_test, y_train, y_test = train_test_split(X,y,test_size=0.2, random_state=42)\n",
    "\n",
    "numeric_feature = list(X.select_dtypes(include=['float64','int64']).columns)\n",
    "\n",
    "numeric_transformer = Pipeline([\n",
    "    ('min_max',MinMaxScaler()),\n",
    "    ('poly',PolynomialFeatures(),)\n",
    "])\n",
    "\n",
    "preprocessor = ColumnTransformer(\n",
    "    transformers = [\n",
    "        ('num',numeric_transformer,numeric_feature)\n",
    "    ]\n",
    ")\n",
    "\n",
    "param_grid= {'alpha':[0.1,1,10]} \n",
    "\n",
    "grid = GridSearchCV(Ridge(),param_grid,cv=5)\n",
    "\n",
    "grid.fit(X_train,y_train)\n",
    "\n",
    "regressor = grid.best_estimator_\n",
    "\n",
    "pipe = Pipeline([\n",
    "    ('prep', preprocessor),\n",
    "    ('reg',regressor)\n",
    "])\n",
    "\n",
    "trained_pipe = pipe.fit(X_train,y_train)\n",
    "trained_pipe.score(X_test, y_test)"
   ]
  },
  {
   "cell_type": "code",
   "execution_count": 47,
   "metadata": {},
   "outputs": [],
   "source": [
    "## Sauvegarde avec pickle\n",
    "with open('model.pickle','wb') as f: \n",
    "    pickle.dump(trained_pipe,f)"
   ]
  }
 ],
 "metadata": {
  "kernelspec": {
   "display_name": "sklearn-env",
   "language": "python",
   "name": "python3"
  },
  "language_info": {
   "codemirror_mode": {
    "name": "ipython",
    "version": 3
   },
   "file_extension": ".py",
   "mimetype": "text/x-python",
   "name": "python",
   "nbconvert_exporter": "python",
   "pygments_lexer": "ipython3",
   "version": "3.8.16"
  },
  "orig_nbformat": 4,
  "vscode": {
   "interpreter": {
    "hash": "28ff26c65758d064959116f1d9c8fbca26d00c18c6d798db5e6a86c21bd645e4"
   }
  }
 },
 "nbformat": 4,
 "nbformat_minor": 2
}
